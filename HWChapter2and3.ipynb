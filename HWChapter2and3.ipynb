{
 "cells": [
  {
   "cell_type": "code",
   "execution_count": null,
   "metadata": {},
   "outputs": [],
   "source": [
    "#CHAPTER2\n",
    "#QUESTION 1\n",
    "# What is wrong with following statement? How do your fix it?\n",
    "my variable == 3"
   ]
  },
  {
   "cell_type": "code",
   "execution_count": 4,
   "metadata": {},
   "outputs": [],
   "source": [
    "#should be = not == because == is a check to see if the two operands are the same\n",
    "# = assigns a value to a variable\n",
    "# spaces are not allowed\n",
    "my_variable = 3"
   ]
  },
  {
   "cell_type": "code",
   "execution_count": 7,
   "metadata": {},
   "outputs": [
    {
     "name": "stdin",
     "output_type": "stream",
     "text": [
      "Enter your first integer:  7\n",
      "Enter your second integer:  4\n"
     ]
    },
    {
     "name": "stdout",
     "output_type": "stream",
     "text": [
      "The sum is:  11\n",
      "The difference is: 3\n"
     ]
    }
   ],
   "source": [
    "#QUESTION 2\n",
    "#Ask the user (yourself) to enter two intergers, and print out the sum and difference of the two integers.\n",
    "#You need to make sure your program only take integers, \n",
    "    #so if a float is entered,it need to be converted to integers.\n",
    "#HINT: read PY4E pp. 25 - 26.\n",
    "#The expected output for your code is (you can use different numbers in your own code):\n",
    "#Enter your first integer: 10\n",
    "#Enter your second integer: 20\n",
    "#The sum is: 30\n",
    "#The difference is: -10\n",
    "\n",
    "#Have the user enter a number\n",
    "num1 = int(input('Enter your first integer: '))\n",
    "#Have the user enter a second number\n",
    "num2 = int(input('Enter your second integer: '))\n",
    "#print the sum of the two numbers\n",
    "print('The sum is: ', num1 + num2)\n",
    "#print the difference of the two numbers\n",
    "print('The difference is:', num1 - num2)"
   ]
  },
  {
   "cell_type": "code",
   "execution_count": 9,
   "metadata": {},
   "outputs": [
    {
     "name": "stdin",
     "output_type": "stream",
     "text": [
      "Enter the height of the triangle:  7\n",
      "Enter the length of the triangle:  3\n"
     ]
    },
    {
     "name": "stdout",
     "output_type": "stream",
     "text": [
      "10.5\n"
     ]
    }
   ],
   "source": [
    "#QUESTION 3\n",
    "#Compute the area of a triagle. From the geometry class we know the area of a triangle is computed via:\n",
    "#Area = (Height*Base)/(2) \n",
    "#Write your own code, with comments, to implement above equation.\n",
    "\n",
    "\n",
    "#Have the user enter the height of the triangle\n",
    "height=int(input('Enter the height of the triangle: '))\n",
    "#Have the user enter the length of the triangle\n",
    "length=int(input('Enter the length of the triangle: '))\n",
    "area=((height*length)/2)\n",
    "#print the calculated area of the triangle\n",
    "print(area)"
   ]
  },
  {
   "cell_type": "code",
   "execution_count": 18,
   "metadata": {},
   "outputs": [
    {
     "name": "stdout",
     "output_type": "stream",
     "text": [
      "Please enter four values in ascending order.\n"
     ]
    },
    {
     "name": "stdin",
     "output_type": "stream",
     "text": [
      "value 1:  1\n",
      "value 2:  2\n",
      "value 3:  4\n",
      "value 4:  8\n"
     ]
    },
    {
     "name": "stdout",
     "output_type": "stream",
     "text": [
      "Yes, 1 2 4  are all factors of  8\n"
     ]
    }
   ],
   "source": [
    "#CHAPTER 3\n",
    "#QUESTION 1 - Check Factors\n",
    "#Given four values, check if the first three values are factors of fourth value. \n",
    "#Factor, in mathematics, a number or algebraic expression that divides another number or expression evenly\n",
    "#Example input/output:\n",
    "#1, 2, 4, 8 -> Yes, 1, 2, 4 are all factors of 8.\n",
    "#1, 2, 3, 9 -> No, 1, 2, 3 are not all factors of 9.\n",
    "#1, 2, 50, 100 -> Yes, 1, 2, 50 are all factors of 100.\n",
    "\n",
    "#Have the user enter four numbers\n",
    "print(\"Please enter four values in ascending order.\")\n",
    "val1=int(input(\"value 1: \"))\n",
    "val2=int(input(\"value 2: \"))\n",
    "val3=int(input(\"value 3: \"))\n",
    "val4=int(input(\"value 4: \"))\n",
    "\n",
    "#start a loop when the fourth value is greater than the previous three\n",
    "if val4>=val1 and val4>=val2 and val4>=val3:\n",
    "    #if the fourth number is greatest, check if it is divisible by all three\n",
    "    if val4%val1==0 and val4%val2==0 and val4%val3==0:\n",
    "        print (\"Yes,\",val1, val2, val3, \" are all factors of \",val4)\n",
    "    else:\n",
    "        print(\"No,\",val1, val2, val3, \" are not all factors of \",val4)\n",
    "else:\n",
    "    print(\"Try again\")"
   ]
  },
  {
   "cell_type": "code",
   "execution_count": 1,
   "metadata": {},
   "outputs": [
    {
     "name": "stdin",
     "output_type": "stream",
     "text": [
      "Enter your grade as a number:  87\n"
     ]
    },
    {
     "name": "stdout",
     "output_type": "stream",
     "text": [
      "B\n"
     ]
    }
   ],
   "source": [
    "#QUESTION 2 - Grade Scale\n",
    "#a=90-100\n",
    "#b=80-89\n",
    "#c=70-79\n",
    "#d=60-69\n",
    "#f=0-59\n",
    "#Take the user input of a point grade;\n",
    "#if the input is not a number, or not in the range of [0, 100] then print 'Enter a legit point please!'\n",
    "#Display the according letter grade using the table below;\n",
    "\n",
    "#Have the user input their grade\n",
    "#Need to capture non number entries\n",
    "#also grades outside of [0,100]\n",
    "#Working Assumption: All grades are integers\n",
    "#imputs are read as strings unless you convert it\n",
    "#what do you do with non-integers?\n",
    "\n",
    "grade=(input('Enter your grade as a number: '))\n",
    "try:\n",
    "    grade=int(grade)\n",
    "    if grade >= 90 and grade <= 100:\n",
    "        print('A')\n",
    "    elif grade >= 80 and grade < 90:\n",
    "        print('B')\n",
    "    elif grade >= 70 and grade < 80:\n",
    "        print('C')\n",
    "    elif grade >= 60 and grade < 70:\n",
    "        print('D')\n",
    "    elif grade >= 0 and grade < 60:\n",
    "        print('F')\n",
    "except:\n",
    "    print('Enter a legit point please!')"
   ]
  },
  {
   "cell_type": "code",
   "execution_count": 1,
   "metadata": {},
   "outputs": [],
   "source": [
    "#QUESTION 3 - Range of Third Edge\n",
    "#From geometry we know that for triangles, length of the 3rd edge of the traingle falls into a range:\n",
    "#(edge1_len - edge2_len) + 1 <= edge3_len <= (edge1_len + edge2_len) - 1\n",
    "#In which, edge1_len is the length of the 1st edge, and so forth.\n",
    "#Complete/Fix the following program, so that it can:\n",
    "#Take user inputs of edge1_len and edge2_len\n",
    "#Print out the range of the third edge\n",
    "#If any of the input is not number, print out error 'Please only enter numeric values!'\n",
    "# Take user input of edge 1\n",
    "#edge1_len = input('Please enter edge1 length: ')\n",
    "#edge2_len = input('Please enter edge2 length: ')\n",
    "#max_len = 0\n",
    "#min_len = 0\n",
    "\n",
    "\n",
    "# complete code below\n",
    "#try:\n",
    "#    min_len = abs(edge1_len - egde2_len) + 1 \n",
    " # abs() takes the absolute value since the length cannot be negative\n",
    "#   max_len = #### Complete your code here\n",
    "#    print('Range of length of edge3 is: ', ####complete your code here)\n",
    "#except:\n",
    "#    print('Please only enter numeric values!')"
   ]
  },
  {
   "cell_type": "code",
   "execution_count": 9,
   "metadata": {},
   "outputs": [
    {
     "name": "stdin",
     "output_type": "stream",
     "text": [
      "Please enter edge1 length:  4\n",
      "Please enter edge2 length:  5\n"
     ]
    },
    {
     "name": "stdout",
     "output_type": "stream",
     "text": [
      "Range of length of edge3 is:  Max:  8 Min:  2\n"
     ]
    }
   ],
   "source": [
    "#Take user input of edge 1 and 2\n",
    "edge1_len = input('Please enter edge1 length: ')\n",
    "edge2_len = input('Please enter edge2 length: ')\n",
    "#creating max and min lengths as variables to adjust them later\n",
    "max_len = int(0)\n",
    "min_len = int(0)\n",
    "# complete code below\n",
    "\n",
    "try:\n",
    "    #turn the input into a number\n",
    "    len1 = int(edge1_len)\n",
    "    len2 = int(edge2_len)\n",
    "    #calculate the min and max for the length of edge 3\n",
    "    min_len = abs(len1 - len2) + 1\n",
    "    # abs() takes the absolute value since the length cannot be negative\n",
    "    max_len = (len1 + len2) - 1 \n",
    "    print(\"Range of length of edge3 is: \", \"Max: \", max_len, \"Min: \", min_len)\n",
    "except:\n",
    "    print('Please only enter numeric values!')"
   ]
  },
  {
   "cell_type": "code",
   "execution_count": null,
   "metadata": {},
   "outputs": [],
   "source": []
  }
 ],
 "metadata": {
  "kernelspec": {
   "display_name": "Python 3",
   "language": "python",
   "name": "python3"
  },
  "language_info": {
   "codemirror_mode": {
    "name": "ipython",
    "version": 3
   },
   "file_extension": ".py",
   "mimetype": "text/x-python",
   "name": "python",
   "nbconvert_exporter": "python",
   "pygments_lexer": "ipython3",
   "version": "3.6.7"
  }
 },
 "nbformat": 4,
 "nbformat_minor": 2
}
